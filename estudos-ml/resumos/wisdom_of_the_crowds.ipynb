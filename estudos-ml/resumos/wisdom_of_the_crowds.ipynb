{
 "cells": [
  {
   "cell_type": "markdown",
   "metadata": {},
   "source": [
    "\n",
    "# Sabedoria das Massas\n",
    "\n",
    "A \"Sabedoria das Massas\" é um princípio que sugere que coletivos de indivíduos, através de suas decisões agregadas, podem tomar decisões mais precisas ou solucionar problemas de forma mais eficiente do que indivíduos isolados, mesmo especialistas. Este conceito tem aplicações em diversas áreas, desde previsões de mercado até tomada de decisão em grupos.\n",
    "\n",
    "## Pontos-chave:\n",
    "\n",
    "1. **Diversidade de Opinião**: O grupo deve ter uma variedade de opiniões e informações.\n",
    "2. **Independência**: As opiniões dos membros não devem ser influenciadas pelos outros.\n",
    "3. **Descentralização**: A tomada de decisão não deve ser centralizada em um indivíduo ou pequeno grupo.\n",
    "4. **Agregação Eficiente**: Deve existir um método para agregar as opiniões do grupo de maneira eficaz.\n",
    "\n",
    "## Aplicações:\n",
    "\n",
    "- Previsões de mercado e políticas\n",
    "- Tomada de decisão colaborativa\n",
    "- Crowdsourcing e inteligência coletiva\n",
    "\n",
    "## Limitações:\n",
    "\n",
    "- Não é eficaz quando falta diversidade ou independência, ou quando as opiniões são altamente correlacionadas.\n",
    "\n",
    "Este conceito destaca a importância da colaboração e da diversidade de perspectivas em processos decisórios.\"\n"
   ]
  },
  {
   "cell_type": "code",
   "execution_count": 5,
   "metadata": {},
   "outputs": [
    {
     "name": "stdout",
     "output_type": "stream",
     "text": [
      "Probabilidade de acerto no caso de 5000 votos de pessoas com 51% de acerto: 97.67%\n"
     ]
    }
   ],
   "source": [
    "from scipy.stats import binom\n",
    "\n",
    "n = 10000\n",
    "p = 0.51\n",
    "\n",
    "k = 5000\n",
    "prob = 1 - binom.cdf(k, n, p)\n",
    "\n",
    "print(f\"Probabilidade de acerto no caso de 5000 votos de pessoas com 51% de acerto: {prob*100:.2f}%\")"
   ]
  },
  {
   "cell_type": "code",
   "execution_count": null,
   "metadata": {},
   "outputs": [],
   "source": []
  }
 ],
 "metadata": {
  "kernelspec": {
   "display_name": "Python 3",
   "language": "python",
   "name": "python3"
  },
  "language_info": {
   "codemirror_mode": {
    "name": "ipython",
    "version": 3
   },
   "file_extension": ".py",
   "mimetype": "text/x-python",
   "name": "python",
   "nbconvert_exporter": "python",
   "pygments_lexer": "ipython3",
   "version": "3.11.5"
  }
 },
 "nbformat": 4,
 "nbformat_minor": 2
}
